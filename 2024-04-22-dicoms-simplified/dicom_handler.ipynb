{
 "cells": [
  {
   "attachments": {},
   "cell_type": "markdown",
   "metadata": {},
   "source": [
    "## Importing the libraries"
   ]
  },
  {
   "cell_type": "code",
   "execution_count": 1,
   "metadata": {},
   "outputs": [],
   "source": [
    "import pydicom\n",
    "import numpy as np\n",
    "from PIL import Image\n",
    "import os"
   ]
  },
  {
   "cell_type": "code",
   "execution_count": 3,
   "metadata": {},
   "outputs": [],
   "source": [
    "dicom_file = pydicom.dcmread(\"data/slice.dcm\")"
   ]
  },
  {
   "cell_type": "code",
   "execution_count": 4,
   "metadata": {},
   "outputs": [
    {
     "data": {
      "text/plain": [
       "Dataset.file_meta -------------------------------\n",
       "(0002, 0000) File Meta Information Group Length  UL: 254\n",
       "(0002, 0001) File Meta Information Version       OB: b'\\x00\\x01'\n",
       "(0002, 0002) Media Storage SOP Class UID         UI: CT Image Storage\n",
       "(0002, 0003) Media Storage SOP Instance UID      UI: 1.2.826.0.1.3680043.2.1125.1.83176427553122619189183958618878330\n",
       "(0002, 0010) Transfer Syntax UID                 UI: Implicit VR Little Endian\n",
       "(0002, 0012) Implementation Class UID            UI: 1.2.826.0.1.3680043.2.1143.107.104.103.115.3.0.9.111.124.113\n",
       "(0002, 0013) Implementation Version Name         SH: 'GDCM 3.0.9'\n",
       "(0002, 0016) Source Application Entity Title     AE: 'GDCM/ITK 5.3.0'\n",
       "-------------------------------------------------\n",
       "(0008, 0008) Image Type                          CS: ['ORIGINAL', 'PRIMARY', 'AXIAL']\n",
       "(0008, 0016) SOP Class UID                       UI: CT Image Storage\n",
       "(0008, 0018) SOP Instance UID                    UI: 1.2.826.0.1.3680043.2.1125.1.83176427553122619189183958618878330\n",
       "(0008, 0020) Study Date                          DA: '20230120'\n",
       "(0008, 0021) Series Date                         DA: '20230120'\n",
       "(0008, 0023) Content Date                        DA: '20230120'\n",
       "(0008, 0030) Study Time                          TM: '103631'\n",
       "(0008, 0031) Series Time                         TM: '103631'\n",
       "(0008, 0033) Content Time                        TM: '103631'\n",
       "(0008, 0050) Accession Number                    SH: ''\n",
       "(0008, 0060) Modality                            CS: 'CT'\n",
       "(0008, 0070) Manufacturer                        LO: '3D Slicer'\n",
       "(0008, 0090) Referring Physician's Name          PN: ''\n",
       "(0010, 0010) Patient's Name                      PN: 'Anonymous'\n",
       "(0010, 0020) Patient ID                          LO: 'ORRQPO'\n",
       "(0010, 0030) Patient's Birth Date                DA: ''\n",
       "(0010, 0040) Patient's Sex                       CS: ''\n",
       "(0018, 0050) Slice Thickness                     DS: '1.0'\n",
       "(0018, 5100) Patient Position                    CS: 'HFS'\n",
       "(0020, 000d) Study Instance UID                  UI: 1.2.826.0.1.3680043.2.1125.1.82387298568897252769147637846192857\n",
       "(0020, 000e) Series Instance UID                 UI: 1.2.826.0.1.3680043.2.1125.1.89603622638932472820660643566489930\n",
       "(0020, 0010) Study ID                            SH: 'THGX'\n",
       "(0020, 0011) Series Number                       IS: '1'\n",
       "(0020, 0013) Instance Number                     IS: '1'\n",
       "(0020, 0032) Image Position (Patient)            DS: [-213.107, 206.892, -220.053]\n",
       "(0020, 0037) Image Orientation (Patient)         DS: [1, 0, 0, 0, -1, 0]\n",
       "(0020, 0052) Frame of Reference UID              UI: 1.2.826.0.1.3680043.2.1125.1.95341955673466450527951295360723028\n",
       "(0020, 1040) Position Reference Indicator        LO: ''\n",
       "(0028, 0002) Samples per Pixel                   US: 1\n",
       "(0028, 0004) Photometric Interpretation          CS: 'MONOCHROME2'\n",
       "(0028, 0010) Rows                                US: 512\n",
       "(0028, 0011) Columns                             US: 512\n",
       "(0028, 0030) Pixel Spacing                       DS: [.810546994209289, .810546994209289]\n",
       "(0028, 0100) Bits Allocated                      US: 16\n",
       "(0028, 0101) Bits Stored                         US: 16\n",
       "(0028, 0102) High Bit                            US: 15\n",
       "(0028, 0103) Pixel Representation                US: 1\n",
       "(0028, 1050) Window Center                       DS: '239.0'\n",
       "(0028, 1051) Window Width                        DS: '2520.0'\n",
       "(0028, 1052) Rescale Intercept                   DS: '0.0'\n",
       "(0028, 1053) Rescale Slope                       DS: '1.0'\n",
       "(0028, 1054) Rescale Type                        LO: 'HU'\n",
       "(7fe0, 0010) Pixel Data                          OW: Array of 524288 elements"
      ]
     },
     "execution_count": 4,
     "metadata": {},
     "output_type": "execute_result"
    }
   ],
   "source": [
    "dicom_file"
   ]
  },
  {
   "cell_type": "code",
   "execution_count": 10,
   "metadata": {},
   "outputs": [],
   "source": [
    "dicom_array = dicom_file.pixel_array"
   ]
  },
  {
   "cell_type": "code",
   "execution_count": 11,
   "metadata": {},
   "outputs": [
    {
     "data": {
      "text/plain": [
       "(512, 512)"
      ]
     },
     "execution_count": 11,
     "metadata": {},
     "output_type": "execute_result"
    }
   ],
   "source": [
    "dicom_array.shape"
   ]
  },
  {
   "attachments": {},
   "cell_type": "markdown",
   "metadata": {},
   "source": [
    "## Show Image 1"
   ]
  },
  {
   "cell_type": "code",
   "execution_count": 38,
   "metadata": {},
   "outputs": [],
   "source": [
    "def normalize_visualize_dicom_1(dcm_file, show=False):\n",
    "    dicom_file = pydicom.dcmread(dcm_file)\n",
    "    dicom_array = dicom_file.pixel_array.astype(float)\n",
    "    normalized_dicom_array = ((np.maximum(dicom_array, 0))/dicom_array.max()) * 255.0\n",
    "    uint8_image = np.uint8(normalized_dicom_array)\n",
    "\n",
    "    if show: # if show == True\n",
    "        pillow_image = Image.fromarray(uint8_image)\n",
    "        pillow_image.show()\n",
    "\n",
    "    return uint8_image"
   ]
  },
  {
   "cell_type": "code",
   "execution_count": 58,
   "metadata": {},
   "outputs": [],
   "source": [
    "image_1 = normalize_visualize_dicom_1('data/slice.dcm', show=True)"
   ]
  },
  {
   "attachments": {},
   "cell_type": "markdown",
   "metadata": {},
   "source": [
    "## Show Image 2"
   ]
  },
  {
   "cell_type": "code",
   "execution_count": 35,
   "metadata": {},
   "outputs": [],
   "source": [
    "hounsfield_min = -200 # np.min(dicom_array)\n",
    "hounsfield_max = 200 # np.max(dicom_array)\n",
    "hounsfield_range = hounsfield_max - hounsfield_min"
   ]
  },
  {
   "cell_type": "code",
   "execution_count": 36,
   "metadata": {},
   "outputs": [],
   "source": [
    "dicom_array[dicom_array < hounsfield_min] = hounsfield_min\n",
    "dicom_array[dicom_array > hounsfield_max] = hounsfield_max\n",
    "normalized_array_2 = (dicom_array - hounsfield_min) / hounsfield_range\n",
    "normalized_array_2 *= 255\n",
    "uint8_image_2 = np.uint8(normalized_array_2)"
   ]
  },
  {
   "cell_type": "code",
   "execution_count": 37,
   "metadata": {},
   "outputs": [],
   "source": [
    "pillow_image = Image.fromarray(uint8_image_2)\n",
    "pillow_image.show()"
   ]
  },
  {
   "cell_type": "code",
   "execution_count": 2,
   "metadata": {},
   "outputs": [],
   "source": [
    "def normalize_visualize_dicom_2(dcm_file, max_v=None, min_v=None, show=True):\n",
    "    dicom_file = pydicom.dcmread(dcm_file)\n",
    "    dicom_array = dicom_file.pixel_array\n",
    "\n",
    "    if max_v: hounsfield_max = max_v\n",
    "    else: hounsfield_max = np.max(dicom_array)\n",
    "\n",
    "    if min_v: hounsfield_min = min_v\n",
    "    else: hounsfield_min = np.min(dicom_array)\n",
    "\n",
    "    hounsfield_range = hounsfield_max - hounsfield_min\n",
    "\n",
    "    dicom_array[dicom_array < hounsfield_min] = hounsfield_min\n",
    "    dicom_array[dicom_array > hounsfield_max] = hounsfield_max\n",
    "    normalized_array = ((dicom_array - hounsfield_min) / hounsfield_range) * 255\n",
    "    uint8_image = np.uint8(normalized_array)\n",
    "\n",
    "    if show:\n",
    "        pillow_image = Image.fromarray(uint8_image)\n",
    "        pillow_image.show()\n",
    "    \n",
    "    return uint8_image\n"
   ]
  },
  {
   "cell_type": "code",
   "execution_count": 59,
   "metadata": {},
   "outputs": [],
   "source": [
    "image_2 = normalize_visualize_dicom_2('data/slice.dcm', show=True, max_v=200, min_v=-200)"
   ]
  },
  {
   "cell_type": "code",
   "execution_count": 60,
   "metadata": {},
   "outputs": [
    {
     "data": {
      "text/plain": [
       "Dataset.file_meta -------------------------------\n",
       "(0002, 0000) File Meta Information Group Length  UL: 254\n",
       "(0002, 0001) File Meta Information Version       OB: b'\\x00\\x01'\n",
       "(0002, 0002) Media Storage SOP Class UID         UI: CT Image Storage\n",
       "(0002, 0003) Media Storage SOP Instance UID      UI: 1.2.826.0.1.3680043.2.1125.1.83176427553122619189183958618878330\n",
       "(0002, 0010) Transfer Syntax UID                 UI: Implicit VR Little Endian\n",
       "(0002, 0012) Implementation Class UID            UI: 1.2.826.0.1.3680043.2.1143.107.104.103.115.3.0.9.111.124.113\n",
       "(0002, 0013) Implementation Version Name         SH: 'GDCM 3.0.9'\n",
       "(0002, 0016) Source Application Entity Title     AE: 'GDCM/ITK 5.3.0'\n",
       "-------------------------------------------------\n",
       "(0008, 0008) Image Type                          CS: ['ORIGINAL', 'PRIMARY', 'AXIAL']\n",
       "(0008, 0016) SOP Class UID                       UI: CT Image Storage\n",
       "(0008, 0018) SOP Instance UID                    UI: 1.2.826.0.1.3680043.2.1125.1.83176427553122619189183958618878330\n",
       "(0008, 0020) Study Date                          DA: '20230120'\n",
       "(0008, 0021) Series Date                         DA: '20230120'\n",
       "(0008, 0023) Content Date                        DA: '20230120'\n",
       "(0008, 0030) Study Time                          TM: '103631'\n",
       "(0008, 0031) Series Time                         TM: '103631'\n",
       "(0008, 0033) Content Time                        TM: '103631'\n",
       "(0008, 0050) Accession Number                    SH: ''\n",
       "(0008, 0060) Modality                            CS: 'CT'\n",
       "(0008, 0070) Manufacturer                        LO: '3D Slicer'\n",
       "(0008, 0090) Referring Physician's Name          PN: ''\n",
       "(0010, 0010) Patient's Name                      PN: 'Anonymous'\n",
       "(0010, 0020) Patient ID                          LO: 'ORRQPO'\n",
       "(0010, 0030) Patient's Birth Date                DA: ''\n",
       "(0010, 0040) Patient's Sex                       CS: ''\n",
       "(0018, 0050) Slice Thickness                     DS: '1.0'\n",
       "(0018, 5100) Patient Position                    CS: 'HFS'\n",
       "(0020, 000d) Study Instance UID                  UI: 1.2.826.0.1.3680043.2.1125.1.82387298568897252769147637846192857\n",
       "(0020, 000e) Series Instance UID                 UI: 1.2.826.0.1.3680043.2.1125.1.89603622638932472820660643566489930\n",
       "(0020, 0010) Study ID                            SH: 'THGX'\n",
       "(0020, 0011) Series Number                       IS: '1'\n",
       "(0020, 0013) Instance Number                     IS: '1'\n",
       "(0020, 0032) Image Position (Patient)            DS: [-213.107, 206.892, -220.053]\n",
       "(0020, 0037) Image Orientation (Patient)         DS: [1, 0, 0, 0, -1, 0]\n",
       "(0020, 0052) Frame of Reference UID              UI: 1.2.826.0.1.3680043.2.1125.1.95341955673466450527951295360723028\n",
       "(0020, 1040) Position Reference Indicator        LO: ''\n",
       "(0028, 0002) Samples per Pixel                   US: 1\n",
       "(0028, 0004) Photometric Interpretation          CS: 'MONOCHROME2'\n",
       "(0028, 0010) Rows                                US: 512\n",
       "(0028, 0011) Columns                             US: 512\n",
       "(0028, 0030) Pixel Spacing                       DS: [.810546994209289, .810546994209289]\n",
       "(0028, 0100) Bits Allocated                      US: 16\n",
       "(0028, 0101) Bits Stored                         US: 16\n",
       "(0028, 0102) High Bit                            US: 15\n",
       "(0028, 0103) Pixel Representation                US: 1\n",
       "(0028, 1050) Window Center                       DS: '239.0'\n",
       "(0028, 1051) Window Width                        DS: '2520.0'\n",
       "(0028, 1052) Rescale Intercept                   DS: '0.0'\n",
       "(0028, 1053) Rescale Slope                       DS: '1.0'\n",
       "(0028, 1054) Rescale Type                        LO: 'HU'\n",
       "(7fe0, 0010) Pixel Data                          OW: Array of 524288 elements"
      ]
     },
     "execution_count": 60,
     "metadata": {},
     "output_type": "execute_result"
    }
   ],
   "source": [
    "dicom_file"
   ]
  },
  {
   "attachments": {},
   "cell_type": "markdown",
   "metadata": {},
   "source": [
    "## Anonymize a dicom file"
   ]
  },
  {
   "cell_type": "code",
   "execution_count": 62,
   "metadata": {},
   "outputs": [
    {
     "name": "stderr",
     "output_type": "stream",
     "text": [
      "c:\\Users\\amine\\anaconda3\\envs\\elias\\lib\\site-packages\\pydicom\\valuerep.py:290: UserWarning: Invalid value for VR DA: '01.01.1999'.\n",
      "  warnings.warn(msg)\n"
     ]
    }
   ],
   "source": [
    "dicom_file.PatientName = 'pycad'\n",
    "dicom_file.PatientBirthDate = '01.01.1999'\n",
    "dicom_file.StudyID = '1234567'\n",
    "dicom_file.PatientSex = ''"
   ]
  },
  {
   "cell_type": "code",
   "execution_count": 64,
   "metadata": {},
   "outputs": [],
   "source": [
    "dicom_file.save_as('data/anonymized_slice.dcm')"
   ]
  },
  {
   "cell_type": "code",
   "execution_count": 65,
   "metadata": {},
   "outputs": [
    {
     "data": {
      "text/plain": [
       "'pycad'"
      ]
     },
     "execution_count": 65,
     "metadata": {},
     "output_type": "execute_result"
    }
   ],
   "source": [
    "new_dicom_file = pydicom.dcmread('data/anonymized_slice.dcm')\n",
    "new_dicom_file.PatientName"
   ]
  },
  {
   "cell_type": "code",
   "execution_count": 66,
   "metadata": {},
   "outputs": [],
   "source": [
    "def anonymize_dicom(dcm_file, pn=None, pb=None, st=None, ps=None, save_path=None):\n",
    "    dicom_file = pydicom(dcm_file)\n",
    "\n",
    "    if pn: dicom_file.PatientName = pn\n",
    "    else: dicom_file.PatientName = ''\n",
    "\n",
    "    if pb: dicom_file.PatientBirthDate = pb\n",
    "    else: dicom_file.PatientBirthDate = ''\n",
    "\n",
    "    if st: dicom_file.StudyID = st\n",
    "    else: dicom_file.StudyID = ''\n",
    "\n",
    "    if ps: dicom_file.PatientSex = ps\n",
    "    else: dicom_file.PatientSex = ''\n",
    "\n",
    "    if save_path:\n",
    "        dicom_file.save_as(save_path)\n",
    "\n",
    "    return dicom_file\n"
   ]
  },
  {
   "attachments": {},
   "cell_type": "markdown",
   "metadata": {},
   "source": [
    "## Changing tags"
   ]
  },
  {
   "cell_type": "code",
   "execution_count": 67,
   "metadata": {},
   "outputs": [],
   "source": [
    "def change_tags(dcm_file, ImageType=None, SOPClassUID=None, SOPInstanceUID=None, StudyDate=None,\n",
    "                SeriesDate=None, ContentDate=None, StudyTime=None, SeriesTime=None,\n",
    "                ContentTime=None, AccessionNumber=None, Modality=None, Manufacturer=None,\n",
    "                ReferringPhysicianName=None, PatientName=None, PatientID=None, PatientBirthDate=None,\n",
    "                PatientSex=None, SliceThickness=None, PatientPosition=None, StudyInstanceUID=None,\n",
    "                SeriesInstanceUID=None, StudyID=None, SeriesNumber=None, InstanceNumber=None,\n",
    "                ImagePositionPatient=None, ImageOrientationPatient=None, FrameOfReferenceUID=None,\n",
    "                PositionReferenceIndicator=None, SamplesPerPixel=None, PhotometricInterpretation=None,\n",
    "                Rows=None, Columns=None, PixelSpacing=None, BitsAllocated=None, BitsStored=None,\n",
    "                HighBit=None, PixelRepresentation=None, WindowCenter=None, WindowWidth=None, \n",
    "                RescaleIntercept=None, RescaleSlope=None, RescaleType=None, PixelData=None):\n",
    "    \n",
    "    \n",
    "    dicom_file_data = pydicom.dcmread(dcm_file)\n",
    "\n",
    "    if ImageType: dicom_file_data.ImageType = ImageType\n",
    "    if SOPClassUID: dicom_file_data.SOPClassUID = SOPClassUID\n",
    "    if SOPInstanceUID: dicom_file_data.SOPInstanceUID = SOPInstanceUID\n",
    "    if StudyDate: dicom_file_data.StudyDate = StudyDate\n",
    "    if SeriesDate: dicom_file_data.SeriesDate = SeriesDate\n",
    "    if ContentDate: dicom_file_data.ContentDate = ContentDate\n",
    "    if AccessionNumber: dicom_file_data.AccessionNumber = AccessionNumber\n",
    "    if Modality: dicom_file_data.Modality = Modality\n",
    "    if Manufacturer: dicom_file_data.Manufacturer = Manufacturer\n",
    "    if ReferringPhysicianName: dicom_file_data.ReferringPhysicianName = ReferringPhysicianName\n",
    "    if PatientName: dicom_file_data.PatientName = PatientName\n",
    "    if PatientID: dicom_file_data.PatientID = PatientID\n",
    "    if PatientBirthDate: dicom_file_data.PatientBirthDate = PatientBirthDate\n",
    "    if PatientSex: dicom_file_data.PatientSex = PatientSex\n",
    "    if SliceThickness: dicom_file_data.SliceThickness = SliceThickness\n",
    "    if PatientPosition: dicom_file_data.PatientPosition = PatientPosition\n",
    "    if StudyInstanceUID: dicom_file_data.StudyInstanceUID = StudyInstanceUID\n",
    "    if SeriesInstanceUID: dicom_file_data.SeriesInstanceUID = SeriesInstanceUID\n",
    "    if StudyID: dicom_file_data.StudyID = StudyID\n",
    "    if SeriesNumber: dicom_file_data.SeriesNumber = SeriesNumber\n",
    "    if InstanceNumber: dicom_file_data.InstanceNumber = InstanceNumber\n",
    "    if ImagePositionPatient: dicom_file_data.ImagePositionPatient = ImagePositionPatient\n",
    "    if ImageOrientationPatient: dicom_file_data.ImageOrientationPatient = ImageOrientationPatient\n",
    "    if FrameOfReferenceUID: dicom_file_data.FrameOfReferenceUID = FrameOfReferenceUID\n",
    "    if PositionReferenceIndicator: dicom_file_data.PositionReferenceIndicator = PositionReferenceIndicator\n",
    "    if SamplesPerPixel: dicom_file_data.SamplesPerPixel = SamplesPerPixel\n",
    "    if PhotometricInterpretation: dicom_file_data.PhotometricInterpretation = PhotometricInterpretation\n",
    "    if Rows: dicom_file_data.Rows = Rows\n",
    "    if Columns: dicom_file_data.Columns = Columns\n",
    "    if PixelSpacing: dicom_file_data.PixelSpacing = PixelSpacing\n",
    "    if BitsAllocated: dicom_file_data.BitsAllocated = BitsAllocated\n",
    "    if BitsStored: dicom_file_data.BitsStored = BitsStored\n",
    "    if HighBit: dicom_file_data.HighBit = HighBit\n",
    "    if PixelRepresentation: dicom_file_data.PixelRepresentation = PixelRepresentation\n",
    "    if WindowCenter: dicom_file_data.WindowCenter = WindowCenter\n",
    "    if WindowWidth: dicom_file_data.WindowWidth = WindowWidth\n",
    "    if WindowWidth: dicom_file_data = WindowWidth\n",
    "    if RescaleIntercept: dicom_file_data.RescaleIntercept = RescaleIntercept\n",
    "    if RescaleType: dicom_file_data.RescaleType = RescaleType\n",
    "    if PixelData: dicom_file_data.PixelData = PixelData\n",
    "\n",
    "    return dicom_file_data\n"
   ]
  },
  {
   "cell_type": "code",
   "execution_count": 68,
   "metadata": {},
   "outputs": [],
   "source": [
    "new_dicom_with_tags = change_tags('data/slice.dcm', ImageType='RGB')\n",
    "new_dicom_with_tags.save_as('data/edited_slice.dcm')"
   ]
  },
  {
   "cell_type": "code",
   "execution_count": 69,
   "metadata": {},
   "outputs": [
    {
     "data": {
      "text/plain": [
       "'RGB'"
      ]
     },
     "execution_count": 69,
     "metadata": {},
     "output_type": "execute_result"
    }
   ],
   "source": [
    "uploaded_dicom = pydicom.dcmread('data/edited_slice.dcm')\n",
    "uploaded_dicom.ImageType"
   ]
  },
  {
   "attachments": {},
   "cell_type": "markdown",
   "metadata": {},
   "source": [
    "## Changing the pixel array values"
   ]
  },
  {
   "cell_type": "code",
   "execution_count": 71,
   "metadata": {},
   "outputs": [
    {
     "data": {
      "text/plain": [
       "array([[-998, -998, -998, ..., -998, -998, -998],\n",
       "       [-998, -998, -998, ..., -998, -998, -998],\n",
       "       [-998, -998, -998, ..., -998, -998, -998],\n",
       "       ...,\n",
       "       [-998, -998, -998, ..., -998, -998, -998],\n",
       "       [-998, -998, -998, ..., -998, -998, -998],\n",
       "       [-998, -998, -998, ..., -998, -998, -998]], dtype=int16)"
      ]
     },
     "execution_count": 71,
     "metadata": {},
     "output_type": "execute_result"
    }
   ],
   "source": [
    "uploaded_dicom.pixel_array"
   ]
  },
  {
   "cell_type": "code",
   "execution_count": 73,
   "metadata": {},
   "outputs": [
    {
     "data": {
      "text/plain": [
       "bytes"
      ]
     },
     "execution_count": 73,
     "metadata": {},
     "output_type": "execute_result"
    }
   ],
   "source": [
    "type(uploaded_dicom.PixelData)"
   ]
  },
  {
   "cell_type": "code",
   "execution_count": 74,
   "metadata": {},
   "outputs": [],
   "source": [
    "new_array = np.zeros((512,512)).tobytes()"
   ]
  },
  {
   "cell_type": "code",
   "execution_count": 75,
   "metadata": {},
   "outputs": [],
   "source": [
    "new_dicom_pixel_data = change_tags('data/slice.dcm', PixelData=new_array)"
   ]
  },
  {
   "cell_type": "code",
   "execution_count": 76,
   "metadata": {},
   "outputs": [
    {
     "name": "stderr",
     "output_type": "stream",
     "text": [
      "c:\\Users\\amine\\anaconda3\\envs\\elias\\lib\\site-packages\\pydicom\\pixel_data_handlers\\numpy_handler.py:250: UserWarning: The length of the pixel data in the dataset (2097152 bytes) indicates it contains excess padding. 1572864 bytes will be removed from the end of the data\n",
      "  warnings.warn(msg)\n"
     ]
    },
    {
     "data": {
      "text/plain": [
       "array([[0, 0, 0, ..., 0, 0, 0],\n",
       "       [0, 0, 0, ..., 0, 0, 0],\n",
       "       [0, 0, 0, ..., 0, 0, 0],\n",
       "       ...,\n",
       "       [0, 0, 0, ..., 0, 0, 0],\n",
       "       [0, 0, 0, ..., 0, 0, 0],\n",
       "       [0, 0, 0, ..., 0, 0, 0]], dtype=int16)"
      ]
     },
     "execution_count": 76,
     "metadata": {},
     "output_type": "execute_result"
    }
   ],
   "source": [
    "new_dicom_pixel_data.pixel_array"
   ]
  },
  {
   "attachments": {},
   "cell_type": "markdown",
   "metadata": {},
   "source": [
    "## Convert dicom into png/jpg"
   ]
  },
  {
   "cell_type": "code",
   "execution_count": 78,
   "metadata": {},
   "outputs": [],
   "source": [
    "array = normalize_visualize_dicom_2('data/slice.dcm', max_v=200, min_v=-200, show=False)\n",
    "img = Image.fromarray(array)\n",
    "img.save('data/slice.png')"
   ]
  },
  {
   "cell_type": "code",
   "execution_count": 7,
   "metadata": {},
   "outputs": [],
   "source": [
    "def dicom_to_png(dcm_file, png_path, max_v=None, min_v=None): # png/path/something.dcm\n",
    "    slice_name = os.path.basename(dcm_file)[:-4]\n",
    "    array = normalize_visualize_dicom_2(dcm_file, max_v, min_v, show=False)\n",
    "    img = Image.fromarray(array)\n",
    "    img.save(f'{png_path}/{slice_name}.png')"
   ]
  },
  {
   "cell_type": "code",
   "execution_count": 9,
   "metadata": {},
   "outputs": [],
   "source": [
    "dicom_to_png('data/slice.dcm', 'data/test', max_v=200, min_v=-200)"
   ]
  },
  {
   "attachments": {},
   "cell_type": "markdown",
   "metadata": {},
   "source": [
    "## Convert a group of dicoms into png"
   ]
  },
  {
   "cell_type": "code",
   "execution_count": 3,
   "metadata": {},
   "outputs": [],
   "source": [
    "from glob import glob"
   ]
  },
  {
   "cell_type": "code",
   "execution_count": 11,
   "metadata": {},
   "outputs": [],
   "source": [
    "dicom_files_path = glob('data/case_corona_scan/*.dcm')"
   ]
  },
  {
   "cell_type": "code",
   "execution_count": 13,
   "metadata": {},
   "outputs": [],
   "source": [
    "for dicom_file in dicom_files_path:\n",
    "    dicom_to_png(dicom_file, 'data/png_folder', 200, -200)"
   ]
  },
  {
   "attachments": {},
   "cell_type": "markdown",
   "metadata": {},
   "source": [
    "## Convert a group of dicom files into nifti"
   ]
  },
  {
   "cell_type": "code",
   "execution_count": 14,
   "metadata": {},
   "outputs": [],
   "source": [
    "import dicom2nifti"
   ]
  },
  {
   "cell_type": "code",
   "execution_count": 15,
   "metadata": {},
   "outputs": [
    {
     "data": {
      "text/plain": [
       "{'NII_FILE': 'data/case_corona_scan.nii.gz',\n",
       " 'NII': <nibabel.nifti1.Nifti1Image at 0x16dff2aa2b0>,\n",
       " 'MAX_SLICE_INCREMENT': 0.9999990000000001}"
      ]
     },
     "execution_count": 15,
     "metadata": {},
     "output_type": "execute_result"
    }
   ],
   "source": [
    "path_dicom_folder = 'data/case_corona_scan'\n",
    "dicom2nifti.dicom_series_to_nifti(path_dicom_folder, 'data/case_corona_scan.nii.gz')"
   ]
  },
  {
   "attachments": {},
   "cell_type": "markdown",
   "metadata": {},
   "source": [
    "## Convert dicom to mp4"
   ]
  },
  {
   "cell_type": "code",
   "execution_count": 4,
   "metadata": {},
   "outputs": [],
   "source": [
    "import cv2"
   ]
  },
  {
   "cell_type": "code",
   "execution_count": 5,
   "metadata": {},
   "outputs": [],
   "source": [
    "dicom_files_path = sorted(glob('data/case_corona_scan/*.dcm'))\n",
    "frame_per_second = 15\n",
    "frame_size = pydicom.dcmread(dicom_files_path[0]).pixel_array.shape"
   ]
  },
  {
   "cell_type": "code",
   "execution_count": 6,
   "metadata": {},
   "outputs": [],
   "source": [
    "out = cv2.VideoWriter('data/case_corona_scan.mp4', cv2.VideoWriter_fourcc(*'DIVX'), frame_per_second, frame_size)"
   ]
  },
  {
   "cell_type": "code",
   "execution_count": 7,
   "metadata": {},
   "outputs": [],
   "source": [
    "for filename in dicom_files_path:\n",
    "    img = normalize_visualize_dicom_2(filename, max_v=200, min_v=-200, show=False)\n",
    "    cv2_img = cv2.cvtColor(img, cv2.COLOR_RGB2BGR)\n",
    "    out.write(cv2_img)\n",
    "\n",
    "out.release()"
   ]
  },
  {
   "cell_type": "code",
   "execution_count": null,
   "metadata": {},
   "outputs": [],
   "source": []
  }
 ],
 "metadata": {
  "kernelspec": {
   "display_name": "Python 3",
   "language": "python",
   "name": "python3"
  },
  "language_info": {
   "codemirror_mode": {
    "name": "ipython",
    "version": 3
   },
   "file_extension": ".py",
   "mimetype": "text/x-python",
   "name": "python",
   "nbconvert_exporter": "python",
   "pygments_lexer": "ipython3",
   "version": "3.9.7"
  },
  "orig_nbformat": 4,
  "vscode": {
   "interpreter": {
    "hash": "73f9d66850c3ff01350b2ea2cde4cee0b0aa4cebe13bf59e228cca7587d73aeb"
   }
  }
 },
 "nbformat": 4,
 "nbformat_minor": 2
}
