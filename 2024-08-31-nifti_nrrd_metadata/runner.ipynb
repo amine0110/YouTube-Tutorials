{
 "cells": [
  {
   "cell_type": "code",
   "execution_count": 2,
   "metadata": {},
   "outputs": [],
   "source": [
    "\n",
    "from dcm2nifti import SimpleDicomToNiftiConverter as sdnifti\n",
    "from dcm2nrrd import SimpleDicomToNrrdConverter as sdnrrd"
   ]
  },
  {
   "cell_type": "code",
   "execution_count": 3,
   "metadata": {},
   "outputs": [
    {
     "name": "stdout",
     "output_type": "stream",
     "text": [
      "NIfTI file saved successfully: output.nii.gz\n"
     ]
    }
   ],
   "source": [
    "dicom_folder = \"C:/Users/pycad/Documents/PYCAD/datasets/velmeni_test/issue_case_rexported\"\n",
    "output_nifti = \"output.nii.gz\"\n",
    "converter = sdnifti(dicom_folder, output_nifti)\n",
    "converter.convert()"
   ]
  },
  {
   "cell_type": "code",
   "execution_count": 8,
   "metadata": {},
   "outputs": [
    {
     "name": "stdout",
     "output_type": "stream",
     "text": [
      "\n",
      "Metadata:\n",
      "{\n",
      "  \"ExampleKey\": \"ExampleValue\"\n",
      "}\n"
     ]
    }
   ],
   "source": [
    "import nibabel as nib\n",
    "import base64\n",
    "import json\n",
    "\n",
    "def read_nifti_metadata(nifti_file):\n",
    "    # Read the NIfTI file using nibabel\n",
    "    image = nib.load(nifti_file)\n",
    "\n",
    "\n",
    "    # Retrieve JSON metadata\n",
    "    for ext in image.header.extensions:\n",
    "        if ext.get_code() == 40:  # Assuming 40 is the extension code for JSON metadata\n",
    "            encoded_json = ext.get_content()\n",
    "            json_str = base64.b64decode(encoded_json).decode('utf-8')\n",
    "            json_content = json.loads(json_str)\n",
    "            return json_content\n",
    "\n",
    "    # If JSON metadata is not found, return all metadata\n",
    "    metadata = {}\n",
    "    for key, value in image.header.items():\n",
    "        metadata[key] = value\n",
    "    return metadata\n",
    "\n",
    "# Read and print the metadata\n",
    "metadata = read_nifti_metadata(output_nifti)\n",
    "print(\"\\nMetadata:\")\n",
    "print(json.dumps(metadata, indent=2, default=str))\n",
    "\n"
   ]
  },
  {
   "cell_type": "code",
   "execution_count": null,
   "metadata": {},
   "outputs": [],
   "source": []
  }
 ],
 "metadata": {
  "kernelspec": {
   "display_name": "global",
   "language": "python",
   "name": "python3"
  },
  "language_info": {
   "codemirror_mode": {
    "name": "ipython",
    "version": 3
   },
   "file_extension": ".py",
   "mimetype": "text/x-python",
   "name": "python",
   "nbconvert_exporter": "python",
   "pygments_lexer": "ipython3",
   "version": "3.10.14"
  }
 },
 "nbformat": 4,
 "nbformat_minor": 2
}
